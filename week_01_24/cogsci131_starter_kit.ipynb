{
 "cells": [
  {
   "cell_type": "markdown",
   "id": "74a37100-4afd-4530-990e-444e064c85ed",
   "metadata": {
    "tags": []
   },
   "source": [
    "# CogSci 131 Starter Kit\n",
    "\n",
    "Written by Yuan Meng (GSI for Sections 104 & 106)"
   ]
  },
  {
   "cell_type": "markdown",
   "id": "789f041a-a453-4e8d-9e1d-21e30090867a",
   "metadata": {},
   "source": [
    "# NumPy basics\n",
    "\n",
    "Python is the *de facto* language for machine learning and data science (Julia is gaining popularity, but still far behind; some in industry may use R but certainly not in production). Historians of programming languages may say NumPy ([Harris et al., 2020](https://www.nature.com/articles/s41586-020-2649-2)) heavily contributed to Python's prominence in scientific computing. \n",
    "\n",
    "NumPy allows you to easily manipulate arrays and matrices and carry out vectorized operations. Let's see how."
   ]
  },
  {
   "cell_type": "code",
   "execution_count": 1,
   "id": "cf2bc8b7-295e-414c-b83e-60c6a27f2e82",
   "metadata": {},
   "outputs": [],
   "source": [
    "# import NumPy (alias it as \"np\")\n",
    "import numpy as np"
   ]
  },
  {
   "cell_type": "markdown",
   "id": "e2408b69-52e1-41a1-a321-558d92ec6cd8",
   "metadata": {
    "jp-MarkdownHeadingCollapsed": true,
    "tags": []
   },
   "source": [
    "## Load NumPy arrays\n",
    "\n",
    "Later in this semester, you will need to load NumPy arrays  with an extension of `.npy` or `.npz` to build models. Images are also in this format. "
   ]
  },
  {
   "cell_type": "code",
   "execution_count": 2,
   "id": "5d7c7312-3d67-4d57-a554-b9ab5010f76f",
   "metadata": {},
   "outputs": [
    {
     "name": "stdout",
     "output_type": "stream",
     "text": [
      "the response data has 50 rows and 300 columns\n"
     ]
    }
   ],
   "source": [
    "# load response data\n",
    "data = np.load(\"data/experiment_data.npy\")\n",
    "print(f\"the response data has {data.shape[0]} rows and {data.shape[1]} columns\")"
   ]
  },
  {
   "cell_type": "code",
   "execution_count": 3,
   "id": "7e6c5a7f-2fb0-426a-b67a-d9914ba821b3",
   "metadata": {},
   "outputs": [
    {
     "name": "stdout",
     "output_type": "stream",
     "text": [
      "there are 50 participants in the dataset\n"
     ]
    }
   ],
   "source": [
    "# load participant ID's\n",
    "participants = np.load(\"data/experiment_participants.npy\")\n",
    "print(f\"there are {participants.shape[0]} participants in the dataset\")"
   ]
  },
  {
   "cell_type": "code",
   "execution_count": 4,
   "id": "0b5ead46-bbcc-4faf-8dd4-ad2eebe7c1fb",
   "metadata": {},
   "outputs": [
    {
     "name": "stdout",
     "output_type": "stream",
     "text": [
      "there are 276 by 460 pixels in the panda image\n"
     ]
    }
   ],
   "source": [
    "# images are often saved as NumPy\n",
    "panda = np.load(\"data/panda.npy\")\n",
    "print(f\"there are {panda.shape[0]} by {panda.shape[1]} pixels in the panda image\")"
   ]
  },
  {
   "cell_type": "markdown",
   "id": "544327e6-828d-4f40-b639-f850b7f90cc9",
   "metadata": {
    "jp-MarkdownHeadingCollapsed": true,
    "tags": []
   },
   "source": [
    "## Save NumPy arrays"
   ]
  },
  {
   "cell_type": "markdown",
   "id": "2fb81a22-2fe0-4e34-b4e2-8339c9b2857f",
   "metadata": {
    "jp-MarkdownHeadingCollapsed": true,
    "tags": []
   },
   "source": [
    "### Save a single array "
   ]
  },
  {
   "cell_type": "code",
   "execution_count": 5,
   "id": "c1668437-ae8e-4c5a-a0b3-0121c11abff9",
   "metadata": {},
   "outputs": [],
   "source": [
    "np.save(\"data/experiment_data_copy.npy\", data)"
   ]
  },
  {
   "cell_type": "markdown",
   "id": "ea5e82bb-d082-4d4f-8402-41a50dfca88b",
   "metadata": {
    "jp-MarkdownHeadingCollapsed": true,
    "tags": []
   },
   "source": [
    "### Combine and save multiple \n",
    "\n",
    "Sometimes we want to combine all information from one experiment and save in one place. "
   ]
  },
  {
   "cell_type": "code",
   "execution_count": 6,
   "id": "64b3e2e0-145f-48dc-a232-a36aa2e9d4b0",
   "metadata": {},
   "outputs": [],
   "source": [
    "# create trial indices\n",
    "trials = np.arange(1, 301)"
   ]
  },
  {
   "cell_type": "code",
   "execution_count": 7,
   "id": "4019ca16-f5cf-489c-85ef-de129ca637b6",
   "metadata": {},
   "outputs": [],
   "source": [
    "# save 3 parts together\n",
    "np.savez(\"data/experiment.npz\", data=data, participants=participants, trials=trials)"
   ]
  },
  {
   "cell_type": "code",
   "execution_count": 8,
   "id": "21aa1093-e755-461a-9004-ca66b50a3696",
   "metadata": {},
   "outputs": [],
   "source": [
    "# load the file we just saved\n",
    "experiment = np.load(\"data/experiment.npz\")"
   ]
  },
  {
   "cell_type": "code",
   "execution_count": 9,
   "id": "4bd2b5e1-9627-4bf6-8c06-d53638db9ae1",
   "metadata": {},
   "outputs": [
    {
     "data": {
      "text/plain": [
       "['data', 'participants', 'trials']"
      ]
     },
     "execution_count": 9,
     "metadata": {},
     "output_type": "execute_result"
    }
   ],
   "source": [
    "# check which arrays are included\n",
    "experiment.files"
   ]
  },
  {
   "cell_type": "code",
   "execution_count": 10,
   "id": "10d0b494-358c-4b80-8e18-4d720df27cda",
   "metadata": {},
   "outputs": [
    {
     "data": {
      "text/plain": [
       "array([[1668.07869346,  774.38921876, 3161.14983152, ..., 2359.05394666,\n",
       "         784.36404676,  448.33416341],\n",
       "       [2419.38185232,  809.18389145, 2766.62648929, ..., 1159.47379735,\n",
       "        1330.44887992, 1842.3268586 ],\n",
       "       [2221.02887591, 1496.00517071,  354.95889145, ..., 1355.74575912,\n",
       "        1205.29137942, 1385.71283365],\n",
       "       ...,\n",
       "       [1654.50469248,  518.3271927 , 5127.58599224, ..., 2544.1042064 ,\n",
       "         624.07607332, 1029.57386246],\n",
       "       [ 480.68016502, 4690.12200498, 1520.27397139, ..., 1000.40541618,\n",
       "         988.73647145,  378.43452948],\n",
       "       [1823.42891807, 3680.12951133, 3522.94413167, ...,  591.4133153 ,\n",
       "         383.26367525, 1768.50528483]])"
      ]
     },
     "execution_count": 10,
     "metadata": {},
     "output_type": "execute_result"
    }
   ],
   "source": [
    "# examine the data array\n",
    "experiment[\"data\"]"
   ]
  },
  {
   "cell_type": "code",
   "execution_count": 11,
   "id": "491f5c7b-4e30-4f54-b43b-6fff2e7f80a1",
   "metadata": {},
   "outputs": [
    {
     "data": {
      "text/plain": [
       "array(['p_045', 'p_039', 'p_027', 'p_023', 'p_041', 'p_008', 'p_025',\n",
       "       'p_019', 'p_036', 'p_049', 'p_050', 'p_029', 'p_032', 'p_006',\n",
       "       'p_028', 'p_034', 'p_044', 'p_016', 'p_010', 'p_017', 'p_022',\n",
       "       'p_033', 'p_042', 'p_009', 'p_047', 'p_035', 'p_002', 'p_014',\n",
       "       'p_020', 'p_043', 'p_003', 'p_012', 'p_030', 'p_015', 'p_011',\n",
       "       'p_018', 'p_004', 'p_040', 'p_001', 'p_031', 'p_005', 'p_013',\n",
       "       'p_046', 'p_038', 'p_021', 'p_026', 'p_024', 'p_048', 'p_007',\n",
       "       'p_037'], dtype='<U5')"
      ]
     },
     "execution_count": 11,
     "metadata": {},
     "output_type": "execute_result"
    }
   ],
   "source": [
    "# examine the participant array\n",
    "experiment[\"participants\"]"
   ]
  },
  {
   "cell_type": "code",
   "execution_count": 12,
   "id": "cc5c5309-3951-473a-b319-a766b42950f5",
   "metadata": {},
   "outputs": [
    {
     "data": {
      "text/plain": [
       "array([  1,   2,   3,   4,   5,   6,   7,   8,   9,  10,  11,  12,  13,\n",
       "        14,  15,  16,  17,  18,  19,  20,  21,  22,  23,  24,  25,  26,\n",
       "        27,  28,  29,  30,  31,  32,  33,  34,  35,  36,  37,  38,  39,\n",
       "        40,  41,  42,  43,  44,  45,  46,  47,  48,  49,  50,  51,  52,\n",
       "        53,  54,  55,  56,  57,  58,  59,  60,  61,  62,  63,  64,  65,\n",
       "        66,  67,  68,  69,  70,  71,  72,  73,  74,  75,  76,  77,  78,\n",
       "        79,  80,  81,  82,  83,  84,  85,  86,  87,  88,  89,  90,  91,\n",
       "        92,  93,  94,  95,  96,  97,  98,  99, 100, 101, 102, 103, 104,\n",
       "       105, 106, 107, 108, 109, 110, 111, 112, 113, 114, 115, 116, 117,\n",
       "       118, 119, 120, 121, 122, 123, 124, 125, 126, 127, 128, 129, 130,\n",
       "       131, 132, 133, 134, 135, 136, 137, 138, 139, 140, 141, 142, 143,\n",
       "       144, 145, 146, 147, 148, 149, 150, 151, 152, 153, 154, 155, 156,\n",
       "       157, 158, 159, 160, 161, 162, 163, 164, 165, 166, 167, 168, 169,\n",
       "       170, 171, 172, 173, 174, 175, 176, 177, 178, 179, 180, 181, 182,\n",
       "       183, 184, 185, 186, 187, 188, 189, 190, 191, 192, 193, 194, 195,\n",
       "       196, 197, 198, 199, 200, 201, 202, 203, 204, 205, 206, 207, 208,\n",
       "       209, 210, 211, 212, 213, 214, 215, 216, 217, 218, 219, 220, 221,\n",
       "       222, 223, 224, 225, 226, 227, 228, 229, 230, 231, 232, 233, 234,\n",
       "       235, 236, 237, 238, 239, 240, 241, 242, 243, 244, 245, 246, 247,\n",
       "       248, 249, 250, 251, 252, 253, 254, 255, 256, 257, 258, 259, 260,\n",
       "       261, 262, 263, 264, 265, 266, 267, 268, 269, 270, 271, 272, 273,\n",
       "       274, 275, 276, 277, 278, 279, 280, 281, 282, 283, 284, 285, 286,\n",
       "       287, 288, 289, 290, 291, 292, 293, 294, 295, 296, 297, 298, 299,\n",
       "       300])"
      ]
     },
     "execution_count": 12,
     "metadata": {},
     "output_type": "execute_result"
    }
   ],
   "source": [
    "# examine the trial array\n",
    "experiment[\"trials\"]"
   ]
  },
  {
   "cell_type": "markdown",
   "id": "a6b5b455-6c1f-484d-8ea6-1b47ee789f6e",
   "metadata": {},
   "source": [
    "## Vectorized operations\n",
    "\n",
    "If you remember none of the NumPy stuff from today, bake this image into your brain:\n",
    "\n",
    "<img src=\"https://predictivehacks.com/wp-content/uploads/2020/08/numpy_arrays.png\" width=\"500\" />"
   ]
  },
  {
   "cell_type": "markdown",
   "id": "82962b49-c7e5-4424-a248-9993825a4be4",
   "metadata": {
    "jp-MarkdownHeadingCollapsed": true,
    "tags": []
   },
   "source": [
    "### Slice data\n",
    "\n",
    "**Basic syntax**: The first letter is **inclusive** and the second letter is **exclusive** (for those who use R, remember Python is **0-indexed**)\n",
    "- Select from a certain row: `array[i,k:m]` \n",
    "- Select from a certain column: `array[i:j,k]` \n",
    "- Select certain rows and columns: `array[i:j,k:m]` \n",
    "\n",
    "Some letters can be omitted when we select everything from the beginning, till the end, or from beginning to end."
   ]
  },
  {
   "cell_type": "code",
   "execution_count": 13,
   "id": "cd1c2aa4-ad0d-4549-8070-c1b3b08f7eec",
   "metadata": {},
   "outputs": [
    {
     "data": {
      "text/plain": [
       "array([1668.07869346,  774.38921876, 3161.14983152, 3937.23787728,\n",
       "        611.38691655,  399.14776341, 1111.57048745,  470.29895368,\n",
       "        612.20448123,  846.03869235])"
      ]
     },
     "execution_count": 13,
     "metadata": {},
     "output_type": "execute_result"
    }
   ],
   "source": [
    "# first 10 trials from the first participant\n",
    "data[0, :10]"
   ]
  },
  {
   "cell_type": "code",
   "execution_count": 14,
   "id": "aff8548f-d668-4b0a-ae03-d8a2c3db6b96",
   "metadata": {},
   "outputs": [
    {
     "data": {
      "text/plain": [
       "array([1246.45495393,  502.16101614,  381.30327137, 3114.43071479,\n",
       "        253.18200384, 3361.94176519,  985.87382528, 2359.05394666,\n",
       "        784.36404676,  448.33416341])"
      ]
     },
     "execution_count": 14,
     "metadata": {},
     "output_type": "execute_result"
    }
   ],
   "source": [
    "# last 10 trials from the first participant\n",
    "data[0, -10:]"
   ]
  },
  {
   "cell_type": "code",
   "execution_count": 15,
   "id": "ed6ddc34-4e2b-4354-b22c-e5b3dde6f4b9",
   "metadata": {},
   "outputs": [
    {
     "data": {
      "text/plain": [
       "array([1668.07869346, 2419.38185232, 2221.02887591, 1091.9748054 ,\n",
       "        765.90901665, 1422.14432183, 2388.94052295,  764.13599359,\n",
       "       3026.39924999, 2570.40740859,  739.74674303, 1540.53959543,\n",
       "        487.47052912, 1014.13206373,  878.47944904,  858.12827316,\n",
       "       1950.47567549, 5327.54617187, 2217.68804959,  808.7173633 ,\n",
       "       2022.13958535, 2095.05446091,  815.01017763, 3610.23252802,\n",
       "       1457.31492087, 2213.60701869, 1519.95398267,  453.099893  ,\n",
       "       1894.80676887, 1980.00572049, 4160.31361689, 1895.03902268,\n",
       "       1215.36516808,  794.31779535, 1726.70558939, 2916.47948689,\n",
       "        528.28872097,  645.83224788, 1043.88516346,  343.86276825,\n",
       "        954.43281503, 3034.30721272,  331.26713308,  980.06469437,\n",
       "       1006.33831631, 3410.62421169, 1688.26554343, 1654.50469248,\n",
       "        480.68016502, 1823.42891807])"
      ]
     },
     "execution_count": 15,
     "metadata": {},
     "output_type": "execute_result"
    }
   ],
   "source": [
    "# all participants' data from first trial\n",
    "data[:, 0]"
   ]
  },
  {
   "cell_type": "code",
   "execution_count": 16,
   "id": "09d5c4fd-8344-4480-8774-3dfa37175a9e",
   "metadata": {},
   "outputs": [
    {
     "data": {
      "text/plain": [
       "array([ 448.33416341, 1842.3268586 , 1385.71283365,  692.4137174 ,\n",
       "       1953.97462007,  754.02714575,  364.0624492 ,  232.38117203,\n",
       "        388.01764548, 1469.14318107, 1710.09941832,  243.11487601,\n",
       "        538.66065837,  687.02624226, 1952.70558219, 1363.71899319,\n",
       "        439.79438026,  403.42155942, 1056.04380176,  914.78912881,\n",
       "        190.4807906 , 5144.29401498, 2051.73422166, 2511.07429219,\n",
       "       1613.08610883,  526.82051108,  723.05119455,  836.42660957,\n",
       "        383.74271736,  496.6772761 , 2899.12727155, 2335.51215397,\n",
       "       1325.80964451,  572.34881727,  371.15657006,  268.01760324,\n",
       "       1534.28166384,  945.53256075, 1357.67222437, 1599.83178441,\n",
       "       4006.44139073,  427.55123124, 1604.97819212,  920.74161063,\n",
       "        752.70831779, 2929.90705512, 1991.0552687 , 1029.57386246,\n",
       "        378.43452948, 1768.50528483])"
      ]
     },
     "execution_count": 16,
     "metadata": {},
     "output_type": "execute_result"
    }
   ],
   "source": [
    "# all participants' data from last trial\n",
    "data[:, -1]"
   ]
  },
  {
   "cell_type": "code",
   "execution_count": 17,
   "id": "cc74c9de-8d5d-4832-82fa-997d644f3b0f",
   "metadata": {},
   "outputs": [
    {
     "data": {
      "text/plain": [
       "array([[ 1496.00517071,   354.95889145,  2311.26016544,  1297.67551663,\n",
       "         1448.96335795,  1601.7383793 ,   959.08317934,  4553.84280539],\n",
       "       [16693.35578897,  1364.88371961,   539.89172745,   879.72631523,\n",
       "          745.19128556,  1141.9787886 ,   608.72099674,  1458.74019485],\n",
       "       [  586.9728176 ,   464.44592541,   664.26267815,  1403.12986529,\n",
       "         2865.21113433,  2214.35180771,   747.75703411,  2268.83900604]])"
      ]
     },
     "execution_count": 17,
     "metadata": {},
     "output_type": "execute_result"
    }
   ],
   "source": [
    "# 2nd to 9th trials for the 3rd to the 5th participants\n",
    "data[2:5, 1:9]"
   ]
  },
  {
   "cell_type": "markdown",
   "id": "5cc13734-5caf-4d21-b9dd-1364c44faf91",
   "metadata": {
    "jp-MarkdownHeadingCollapsed": true,
    "tags": []
   },
   "source": [
    "### Aggregate by rows or columns"
   ]
  },
  {
   "cell_type": "code",
   "execution_count": 18,
   "id": "3a1fbdf0-e95a-4b24-9f8b-c2a7ae06fa9f",
   "metadata": {},
   "outputs": [
    {
     "data": {
      "text/plain": [
       "array([1657.13105986, 2449.30603161, 1788.01031263, 2219.27755826,\n",
       "       1817.84951359, 1718.22261262, 2088.53951113, 2425.04232291,\n",
       "       1859.80002906, 2044.19069033, 1875.94110831, 2113.1235077 ,\n",
       "       1916.5674031 , 2191.27748466, 2674.08274478, 1647.30191706,\n",
       "       2401.3256511 , 1896.09167719, 2024.02271734, 2123.14613439,\n",
       "       2282.87288101, 1720.45742968, 2291.17293072, 2096.08019298,\n",
       "       1732.11999722, 2286.89927729, 2300.17361418, 2189.86601436,\n",
       "       1942.50365714, 1807.44558554, 1948.47171463, 1892.81959934,\n",
       "       2220.55593685, 2089.29674301, 2711.09503437, 2499.99532529,\n",
       "       2244.65459307, 2252.01757711, 2143.82681369, 1648.32965019,\n",
       "       2317.91416023, 2376.81998567, 2299.47020928, 2506.62120811,\n",
       "       2190.02124728, 2213.4026493 , 2194.26522021, 1986.96513939,\n",
       "       2081.52281659, 2266.34028652, 1863.15617567, 2081.75868618,\n",
       "       2066.89159005, 1794.05631164, 1580.87108996, 1748.91227861,\n",
       "       2072.94806905, 2092.27929237, 2291.78141065, 2156.49307505,\n",
       "       1716.82539265, 1921.74066065, 2078.76604231, 2117.38190478,\n",
       "       1975.725474  , 1674.4239891 , 2588.24716463, 1773.97044939,\n",
       "       2052.7821329 , 1953.1719555 , 2077.36925963, 1831.90146739,\n",
       "       1847.54916049, 2181.23071339, 2125.6223321 , 2332.89058416,\n",
       "       2053.03165557, 2013.51739791, 2011.76812336, 2177.00398197,\n",
       "       2010.96692959, 1970.73774   , 2095.88928604, 1914.06876039,\n",
       "       2972.82674806, 2184.44947449, 1862.31736242, 1582.50724773,\n",
       "       1910.52989624, 2007.17524805, 2087.15634075, 2104.14080938,\n",
       "       1674.69308157, 1671.26892444, 2038.36822261, 1725.04196663,\n",
       "       2287.71085291, 2198.84766936, 1711.64754255, 1751.07553437,\n",
       "       1693.08312153, 1628.24449894, 1860.2819837 , 1812.41757492,\n",
       "       2340.03266376, 1775.86052528, 2259.534455  , 2007.1694154 ,\n",
       "       1563.93669363, 1503.18951165, 1856.73853859, 1394.57233284,\n",
       "       2036.243556  , 1737.42557373, 2069.79040817, 1845.44789706,\n",
       "       1617.37021572, 1672.66150043, 1962.14748212, 1787.33864476,\n",
       "       1628.86968644, 1912.86245604, 1679.66688342, 1804.44828958,\n",
       "       2165.62213355, 2043.02743706, 1607.99426393, 1734.7561752 ,\n",
       "       1541.14080358, 1848.60639135, 2048.20185841, 1856.46342377,\n",
       "       1415.15505794, 1620.87735144, 1670.53105964, 1633.15663333,\n",
       "       2113.10162401, 1429.20723064, 2214.53556074, 1849.68018315,\n",
       "       1811.27861357, 2351.78105706, 1955.97151962, 1549.22498195,\n",
       "       1792.2455297 , 1878.28100872, 1764.16308   , 1475.60864224,\n",
       "       1908.71025429, 1681.46796472, 1501.83136329, 1819.01007731,\n",
       "       1757.20991893, 1578.14006346, 1641.77545201, 1622.95373445,\n",
       "       1483.62877185, 1347.91666771, 1592.08532508, 1747.88182966,\n",
       "       1625.6836964 , 1896.74359013, 2174.81322356, 1702.92628871,\n",
       "       1605.86638344, 1822.52077357, 1772.05926222, 1742.26352561,\n",
       "       2414.0628772 , 1883.21886773, 1887.44306321, 1429.17575328,\n",
       "       1619.57584219, 1949.19741312, 1829.1316106 , 1770.70026756,\n",
       "       1688.21535717, 1881.72000913, 1534.60599673, 1463.37811345,\n",
       "       1512.80704849, 1717.42906505, 1703.24080358, 1374.04947082,\n",
       "       1495.59802111, 1734.3313921 , 1973.19645481, 2048.89289611,\n",
       "       1480.06825369, 1549.3516495 , 1434.64046352, 1736.99195058,\n",
       "       1713.64963001, 1713.85165472, 1557.68130886, 1711.6516271 ,\n",
       "       2240.48440533, 1655.63245056, 1380.59622419, 1929.1829028 ,\n",
       "       1360.3176172 , 1391.52505168, 1560.91830379, 1322.06609721,\n",
       "       1667.83828571, 1672.53321949, 1585.15535237, 1842.42162817,\n",
       "       1405.90631879, 1541.3354465 , 1664.79475692, 1800.04281008,\n",
       "       1590.34837027, 1463.44867337, 1815.07409879, 1388.12958915,\n",
       "       1271.59491647, 1361.4024355 , 1950.67052232, 1281.68853944,\n",
       "       1246.36055503, 1711.56288486, 1764.89896856, 1780.0277301 ,\n",
       "       1354.22408738, 1617.29057249, 1685.36770406, 1496.8725787 ,\n",
       "       2117.19403111, 1609.04408281, 1756.48830679, 1989.27112241,\n",
       "       1776.88664731, 1522.43250507, 1688.60654061, 1363.65768416,\n",
       "       1336.36153333, 1766.90233993, 1839.90681765, 1468.53561211,\n",
       "       1412.95796545, 1400.44342548, 1250.80171378, 1331.81813964,\n",
       "       1307.57076112, 1264.26276585, 1469.69890498, 1348.18511258,\n",
       "       1395.2289748 , 1662.708699  , 1476.59825967, 1585.61001026,\n",
       "       1689.44659611, 1309.35099895, 1352.08219505, 1499.54435606,\n",
       "       1909.51803993, 1771.76350692, 1426.67498296, 1219.08240108,\n",
       "       1491.50715196, 1409.50934224, 1389.02492092, 1829.867411  ,\n",
       "       1557.72726046, 1579.16061369, 1507.86968971, 1331.10367917,\n",
       "       1375.44866328, 1447.42386281, 1253.09132073, 1246.66895776,\n",
       "       1549.5763834 , 1421.27935684, 1026.36165064, 1314.97687325,\n",
       "       1381.46650212, 1587.55461989, 1330.55981479, 1115.33772335,\n",
       "       1312.05281763, 1453.53996797, 1548.88809198, 1422.79957193,\n",
       "       1895.76233434, 1346.53503322, 1089.80289058, 1487.73622681,\n",
       "       1377.24583127, 1219.81144777, 1365.05517069, 1385.26651442,\n",
       "       1145.77106287, 1440.21360151, 1269.97521961, 1323.83675414,\n",
       "       1389.81443152, 1261.18326064, 1336.12228171, 1246.72686402])"
      ]
     },
     "execution_count": 18,
     "metadata": {},
     "output_type": "execute_result"
    }
   ],
   "source": [
    "# reduce by row: each trial's mean across all participants\n",
    "np.mean(data, axis=0)"
   ]
  },
  {
   "cell_type": "code",
   "execution_count": 19,
   "id": "4872dbbb-9c7f-490a-8e34-a738017cc910",
   "metadata": {},
   "outputs": [
    {
     "data": {
      "text/plain": [
       "array([1698.68801725, 1888.71240023, 1796.53362098, 1879.6038851 ,\n",
       "       1882.53249686, 1824.79568606, 1746.75780815, 1748.55448988,\n",
       "       1655.75347639, 1740.67757826, 1854.98538242, 1720.70259522,\n",
       "       1675.2006642 , 1746.52724187, 1768.64738486, 1794.45589925,\n",
       "       1860.06861469, 1835.73006077, 1520.77977686, 1795.55654863,\n",
       "       1794.26437533, 1716.73345285, 1740.64166499, 1704.87601852,\n",
       "       1906.06514665, 1722.68258855, 1857.70131135, 1878.26245376,\n",
       "       1741.26393398, 1680.21711839, 1830.55940979, 1697.03486501,\n",
       "       1892.45119973, 1888.69786047, 1653.73721041, 1794.17096019,\n",
       "       1779.9941148 , 1832.42610672, 1861.63504795, 1685.20108106,\n",
       "       1652.29647646, 1718.43799102, 1633.30628308, 1686.72435462,\n",
       "       1810.54490061, 1703.7949561 , 1747.64361845, 1670.90982655,\n",
       "       1830.47925898, 1771.15425183])"
      ]
     },
     "execution_count": 19,
     "metadata": {},
     "output_type": "execute_result"
    }
   ],
   "source": [
    "# reduce by column: each participant's mean across all trials\n",
    "np.mean(data, axis=1)"
   ]
  },
  {
   "cell_type": "markdown",
   "id": "90f998f2-7743-4f72-b39c-c5e818b89d13",
   "metadata": {
    "tags": []
   },
   "source": [
    "# Plotting with Matplotlib Pyplot\n",
    "\n",
    "Certain things never stay in your brain 🧠: SQL, type I vs. type II errors... and plotting with `matplotlib.pyplot`. Highly recommend these [cheatsheets](https://github.com/matplotlib/cheatsheets) and the [official tutorial](https://matplotlib.org/stable/tutorials/introductory/pyplot.html)."
   ]
  },
  {
   "cell_type": "code",
   "execution_count": 20,
   "id": "3ded4c2d-a54f-4dba-beed-735bf6e533d1",
   "metadata": {},
   "outputs": [],
   "source": [
    "# import Pyplot library (alias it as \"plt\")\n",
    "import matplotlib.pyplot as plt\n",
    "# enable inline plotting\n",
    "%matplotlib inline"
   ]
  },
  {
   "cell_type": "markdown",
   "id": "51912b1d-d7e6-4273-99b2-52923a4219d9",
   "metadata": {
    "tags": []
   },
   "source": [
    "## Create the \"canvas\""
   ]
  },
  {
   "cell_type": "code",
   "execution_count": 21,
   "id": "b8e968bc-093a-4e2b-9142-b23b119c87e7",
   "metadata": {},
   "outputs": [
    {
     "name": "stdout",
     "output_type": "stream",
     "text": [
      "Figure object: Figure(432x288)\n",
      "Axis object: AxesSubplot(0.125,0.125;0.775x0.755)\n"
     ]
    },
    {
     "data": {
      "image/png": "[encoded data removed]",
      "text/plain": [
       "<Figure size 432x288 with 1 Axes>"
      ]
     },
     "metadata": {
      "needs_background": "light"
     },
     "output_type": "display_data"
    }
   ],
   "source": [
    "# just one plot\n",
    "fig, ax = plt.subplots()\n",
    "print(\"Figure object: \" + str(fig))\n",
    "print(\"Axis object: \" + str(ax))\n",
    "plt.show()"
   ]
  },
  {
   "cell_type": "code",
   "execution_count": 22,
   "id": "1db9cae9-d4ad-4423-b715-ca443a50d80c",
   "metadata": {},
   "outputs": [
    {
     "name": "stdout",
     "output_type": "stream",
     "text": [
      "Figure object: Figure(432x288)\n",
      "1st axis object: AxesSubplot(0.125,0.125;0.352273x0.755)\n",
      "2nd axis object: AxesSubplot(0.547727,0.125;0.352273x0.755)\n"
     ]
    },
    {
     "data": {
      "image/png": "[encoded data removed]",
      "text/plain": [
       "<Figure size 432x288 with 2 Axes>"
      ]
     },
     "metadata": {
      "needs_background": "light"
     },
     "output_type": "display_data"
    }
   ],
   "source": [
    "# one direction: horizontally stacked\n",
    "fig, axes = plt.subplots(1, 2)\n",
    "print(\"Figure object: \" + str(fig))\n",
    "print(\"1st axis object: \" + str(axes[0]))\n",
    "print(\"2nd axis object: \" + str(axes[1]))"
   ]
  },
  {
   "cell_type": "code",
   "execution_count": 23,
   "id": "b4dc82b0-a238-4a5e-9b0c-847aeb736cda",
   "metadata": {},
   "outputs": [
    {
     "name": "stdout",
     "output_type": "stream",
     "text": [
      "Figure object: Figure(432x288)\n",
      "1st axis object: AxesSubplot(0.125,0.536818;0.775x0.343182)\n",
      "2nd axis object: AxesSubplot(0.125,0.125;0.775x0.343182)\n"
     ]
    },
    {
     "data": {
      "image/png": "[encoded data removed]",
      "text/plain": [
       "<Figure size 432x288 with 2 Axes>"
      ]
     },
     "metadata": {
      "needs_background": "light"
     },
     "output_type": "display_data"
    }
   ],
   "source": [
    "# one direction: veritically stacked\n",
    "fig, axes = plt.subplots(2, 1)\n",
    "print(\"Figure object: \" + str(fig))\n",
    "print(\"1st axis object: \" + str(axes[0]))\n",
    "print(\"2nd axis object: \" + str(axes[1]))"
   ]
  },
  {
   "cell_type": "code",
   "execution_count": 24,
   "id": "23fce2c5-57b0-4e60-9bd4-a1d20c043040",
   "metadata": {},
   "outputs": [
    {
     "name": "stdout",
     "output_type": "stream",
     "text": [
      "Figure object: Figure(432x288)\n",
      "1st axis object: AxesSubplot(0.125,0.536818;0.352273x0.343182)\n",
      "2nd axis object: AxesSubplot(0.547727,0.536818;0.352273x0.343182)\n",
      "3rd axis object: AxesSubplot(0.125,0.125;0.352273x0.343182)\n",
      "4th axis object: AxesSubplot(0.547727,0.125;0.352273x0.343182)\n"
     ]
    },
    {
     "data": {
      "image/png": "[encoded data removed]",
      "text/plain": [
       "<Figure size 432x288 with 4 Axes>"
      ]
     },
     "metadata": {
      "needs_background": "light"
     },
     "output_type": "display_data"
    }
   ],
   "source": [
    "# two directions\n",
    "fig, axes = plt.subplots(2, 2)\n",
    "print(\"Figure object: \" + str(fig))\n",
    "print(\"1st axis object: \" + str(axes[0, 0]))\n",
    "print(\"2nd axis object: \" + str(axes[0, 1]))\n",
    "print(\"3rd axis object: \" + str(axes[1, 0]))\n",
    "print(\"4th axis object: \" + str(axes[1, 1]))"
   ]
  },
  {
   "cell_type": "markdown",
   "id": "cd9d5e4e-fcc6-456b-8cd7-a854a509bb5c",
   "metadata": {
    "tags": []
   },
   "source": [
    "## Add content and save"
   ]
  },
  {
   "cell_type": "markdown",
   "id": "5295f45d-fee5-4b75-8be9-d7fc6fd8a8a3",
   "metadata": {},
   "source": [
    "To plot a function, we first need to generate the data (floats in small increments). "
   ]
  },
  {
   "cell_type": "code",
   "execution_count": 25,
   "id": "f43399e2-b5eb-46a7-89f4-04ca1e351c6c",
   "metadata": {},
   "outputs": [],
   "source": [
    "# create equally spaced 100 data in range 0 to 2*pi\n",
    "theta = np.linspace(0, 2 * np.pi, 100)\n",
    "\n",
    "# generate x and y data\n",
    "x = 16 * (np.sin(theta) ** 3)\n",
    "y = (\n",
    "    13 * np.cos(theta)\n",
    "    - 5 * np.cos(2 * theta)\n",
    "    - 2 * np.cos(3 * theta)\n",
    "    - np.cos(4 * theta)\n",
    ")"
   ]
  },
  {
   "cell_type": "code",
   "execution_count": 26,
   "id": "c70c1e67-aa6a-4255-abc3-adb6c7925db3",
   "metadata": {},
   "outputs": [
    {
     "data": {
      "image/png": "[encoded data removed]",
      "text/plain": [
       "<Figure size 432x288 with 1 Axes>"
      ]
     },
     "metadata": {
      "needs_background": "light"
     },
     "output_type": "display_data"
    }
   ],
   "source": [
    "# use the ax object to plot\n",
    "fig, ax = plt.subplots()\n",
    "ax.plot(x, y)\n",
    "\n",
    "# label axes and figure\n",
    "ax.set_xlabel(\"hey\", fontsize=15)\n",
    "ax.set_ylabel(\"wait\", fontsize=15)\n",
    "fig.suptitle(\"heart-shaped box\", fontsize=20)\n",
    "\n",
    "# save figure to the figures directory\n",
    "fig.savefig(\"figures/heart-shaped_box.png\")"
   ]
  },
  {
   "cell_type": "markdown",
   "id": "d008054a-41dc-4583-bd92-4d508395f9b2",
   "metadata": {},
   "source": [
    "We can plot multiple curves, either in the same plot or across multiple."
   ]
  },
  {
   "cell_type": "code",
   "execution_count": 27,
   "id": "67ea29f2-5a69-4f4c-92be-bc7139f88a99",
   "metadata": {},
   "outputs": [],
   "source": [
    "# generate data for two functions\n",
    "x = np.linspace(0, 10, 100)\n",
    "y1, y2 = np.sin(x), np.cos(x)"
   ]
  },
  {
   "cell_type": "code",
   "execution_count": 28,
   "id": "e2ecee41-d7e5-4218-be8c-da6cd7446bb8",
   "metadata": {},
   "outputs": [
    {
     "data": {
      "image/png": "[encoded data removed]",
      "text/plain": [
       "<Figure size 432x288 with 1 Axes>"
      ]
     },
     "metadata": {
      "needs_background": "light"
     },
     "output_type": "display_data"
    }
   ],
   "source": [
    "# we can plot two functions in one plot\n",
    "fig, ax = plt.subplots()\n",
    "ax.plot(x, y1, \"C0\", label=\"Sine\")\n",
    "ax.plot(x, y2, \"C1\", label=\"Cosine\")\n",
    "# but it's as good as nothing w/o a legend\n",
    "ax.legend(bbox_to_anchor=(0, 1, 1, 0.1), ncol=2, mode=\"expand\", loc=\"lower left\")\n",
    "ax.set_title(\"sine and cosine waves\")\n",
    "\n",
    "# save figure to the figures directory\n",
    "fig.savefig(\"figures/sin_cos_combined.png\")"
   ]
  },
  {
   "cell_type": "code",
   "execution_count": 29,
   "id": "f63fd93c-7941-49ef-a220-fcb0b7fa7ede",
   "metadata": {},
   "outputs": [
    {
     "data": {
      "image/png": "[encoded data removed]",
      "text/plain": [
       "<Figure size 432x288 with 2 Axes>"
      ]
     },
     "metadata": {
      "needs_background": "light"
     },
     "output_type": "display_data"
    }
   ],
   "source": [
    "# or we can plot them in 2 subplots\n",
    "fig, axes = plt.subplots(1, 2)\n",
    "\n",
    "# left subplot\n",
    "axes[0].plot(x, y1)\n",
    "axes[0].set_title(\"sin(x)\")\n",
    "\n",
    "# right subplot\n",
    "axes[1].plot(x, y2)\n",
    "axes[1].set_title(\"cos(x)\")\n",
    "\n",
    "# save figure to the figures directory\n",
    "fig.savefig(\"figures/sin_cos_seperate.png\")"
   ]
  },
  {
   "cell_type": "markdown",
   "id": "b8745335-8dd3-4de7-ad07-0ec4ab232ee0",
   "metadata": {},
   "source": [
    "# Other Pythonic stuff"
   ]
  },
  {
   "cell_type": "markdown",
   "id": "68feeaf5-e504-45e5-9b01-db8e3db492b7",
   "metadata": {},
   "source": [
    "## Use for-loops\n",
    "\n",
    "W3 Schools is a great source for learning programming and quickly brushing up knowledge. Check out their [for-loop tutorial](https://www.w3schools.com/python/python_for_loops.asp). In Python, **don't use for-loops if you don't have too**: When working with lists and dictionaries, you can use list or dictionary comprehension; when working with NumPy (or Pandas, TensorFlow, etc.), it's much better to use vectorized operations. That said, sometimes we may have to use for-loops, for instance:\n",
    "\n",
    "> Write a function to compute the Gauss Summation $\\displaystyle{\\sum_{i}^{n} n}$ for $n = 1, 2, \\ldots, 100$."
   ]
  },
  {
   "cell_type": "code",
   "execution_count": 30,
   "id": "9a70fe48-43e0-488d-8808-c71a7967e607",
   "metadata": {},
   "outputs": [],
   "source": [
    "def compute_gauss_sum(start, end):\n",
    "\n",
    "    # sum begins with 0\n",
    "    total = 0\n",
    "\n",
    "    # loop through 1 to 100 (we need to end at 101)\n",
    "    for i in range(start, end + 1):\n",
    "        # each iteration, add index to sum\n",
    "        total += i\n",
    "\n",
    "    # result should be 5050\n",
    "    return total"
   ]
  },
  {
   "cell_type": "code",
   "execution_count": 31,
   "id": "0d403c35-5716-4d6d-9e8a-fb66c2198985",
   "metadata": {},
   "outputs": [
    {
     "data": {
      "text/plain": [
       "5050"
      ]
     },
     "execution_count": 31,
     "metadata": {},
     "output_type": "execute_result"
    }
   ],
   "source": [
    "# time to check the result\n",
    "compute_gauss_sum(1, 100)"
   ]
  },
  {
   "cell_type": "markdown",
   "id": "d4b3631b-668b-4e64-856c-5b977ebbc906",
   "metadata": {},
   "source": [
    "## Generate random numbers\n",
    "\n",
    "If you interview with Google for their data scientist positions once day, one question is definitely generating random numbers from a given distribution (but you can't use the random module). For this course, you can use a wide range of distributions offer by NumPy. Below are two toy examples."
   ]
  },
  {
   "cell_type": "code",
   "execution_count": 32,
   "id": "7e53a454-6bc8-412c-aed4-57f1f834de97",
   "metadata": {},
   "outputs": [],
   "source": [
    "# generate 10,000 random IQ scores from a Normal distributon\n",
    "iqs = np.random.normal(100, 15, 1000)"
   ]
  },
  {
   "cell_type": "code",
   "execution_count": 33,
   "id": "a19a6259-b139-4235-b314-1732ece8dbb5",
   "metadata": {},
   "outputs": [
    {
     "data": {
      "image/png": "[encoded data removed]",
      "text/plain": [
       "<Figure size 432x288 with 1 Axes>"
      ]
     },
     "metadata": {
      "needs_background": "light"
     },
     "output_type": "display_data"
    }
   ],
   "source": [
    "# plot a histogram (default is 30 bins)\n",
    "fig, ax = plt.subplots()\n",
    "ax.hist(iqs, bins=100)\n",
    "plt.show()"
   ]
  },
  {
   "cell_type": "code",
   "execution_count": 34,
   "id": "893fca31-0f7d-4ca5-8a05-15791cc6ecab",
   "metadata": {},
   "outputs": [],
   "source": [
    "# generate average revenue for 100,000 e-commere customers\n",
    "avg_rev = (np.random.pareto(3, 10000) + 1) * 2"
   ]
  },
  {
   "cell_type": "code",
   "execution_count": 35,
   "id": "8eb92482-13a5-4a9f-a47e-46eb4037eff2",
   "metadata": {},
   "outputs": [
    {
     "data": {
      "image/png": "[encoded data removed]",
      "text/plain": [
       "<Figure size 432x288 with 1 Axes>"
      ]
     },
     "metadata": {
      "needs_background": "light"
     },
     "output_type": "display_data"
    }
   ],
   "source": [
    "# plot another histogram\n",
    "fig, ax = plt.subplots()\n",
    "ax.hist(avg_rev, bins=100)\n",
    "plt.show()"
   ]
  }
 ],
 "metadata": {
  "kernelspec": {
   "display_name": "Python 3",
   "language": "python",
   "name": "python3"
  },
  "language_info": {
   "codemirror_mode": {
    "name": "ipython",
    "version": 3
   },
   "file_extension": ".py",
   "mimetype": "text/x-python",
   "name": "python",
   "nbconvert_exporter": "python",
   "pygments_lexer": "ipython3",
   "version": "3.9.5"
  },
  "toc-autonumbering": false,
  "toc-showmarkdowntxt": false,
  "toc-showtags": false
 },
 "nbformat": 4,
 "nbformat_minor": 5
}
